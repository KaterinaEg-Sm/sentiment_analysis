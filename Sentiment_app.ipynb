{
 "cells": [
  {
   "cell_type": "code",
   "execution_count": 1,
   "id": "ee9206b8-3ac7-439c-8168-0ee71b11233a",
   "metadata": {},
   "outputs": [],
   "source": [
    "# Sentiment Analysis on the Skincare Brand 'The Ordinary'"
   ]
  },
  {
   "cell_type": "code",
   "execution_count": 7,
   "id": "a14cdbfb-90b7-45fb-97b9-55ce961a7a1d",
   "metadata": {},
   "outputs": [],
   "source": [
    "import praw\n",
    "import pandas as pd\n",
    "from textblob import TextBlob\n",
    "import matplotlib.pyplot as plt\n",
    "import seaborn as sns\n",
    "from wordcloud import WordCloud, STOPWORDS"
   ]
  },
  {
   "cell_type": "code",
   "execution_count": 15,
   "id": "27daf2fa-d339-41cf-a520-b5beda208581",
   "metadata": {},
   "outputs": [],
   "source": [
    "# Connecting to the Reddit API to retrieve posts and comments from the SkincareAddiction subreddit (with 3.9 million subscribers) using the keyword \n",
    "#'ordinary' to analyze the brand. Saving the retrieved data in CSV files\n",
    "\n",
    "# Credentials\n",
    "client_id = '_Dg7T7G5aQ3WIMFli6d31g'\n",
    "client_secret = 'gjenP2Q3zzLAI_eukg7v3mbM780kGg'\n",
    "user_agent = 'my_bot/0.1 by u/No-Cherry-3059'\n",
    "\n",
    "# Initializing PRAW with the credentials\n",
    "reddit = praw.Reddit(client_id=client_id,\n",
    "                     client_secret=client_secret,\n",
    "                     user_agent=user_agent)\n",
    "\n",
    "# Setting the variables\n",
    "sub = 'SkincareAddiction'\n",
    "word = 'ordinary'\n",
    "\n",
    "# Retrieving posts (limited to 300) and associated comments from the SkincareAddiction subreddit\n",
    "subreddit = reddit.subreddit(sub)\n",
    "posts = list(subreddit.search(word, limit = 300))\n",
    "\n",
    "PostData_Cleaned = []\n",
    " \n",
    "for post in posts:\n",
    "    \n",
    "    PostData_Cleaned.append({\n",
    "         'title': post.title,\n",
    "         'selftext': post.selftext,\n",
    "         'score': post.score,\n",
    "         'num_comments': post.num_comments,\n",
    "         'created': post.created_utc\n",
    "     }) \n",
    "\n",
    "\n",
    "PostComments_Cleaned = []\n",
    "\n",
    "\n",
    "for post in posts:\n",
    "        \n",
    "    comment_count = 0 \n",
    "    for comment in post.comments:  \n",
    "        if isinstance(comment, praw.models.MoreComments):\n",
    "            continue \n",
    "        if comment_count<100:\n",
    "                PostComments_Cleaned.append({\n",
    "                    'title': post.title, \n",
    "                    'selftext': post.selftext,\n",
    "                    'num_comments': post.num_comments,\n",
    "                    'comment': comment.body,\n",
    "                    'created': post.created_utc \n",
    "                })\n",
    "        comment_count += 1\n",
    "\n",
    "df_comments =pd.DataFrame(PostComments_Cleaned) \n",
    "df_posts =pd.DataFrame(PostData_Cleaned) \n"
   ]
  },
  {
   "cell_type": "code",
   "execution_count": 16,
   "id": "c1a196da-8365-4e90-a907-1f67f7c35c43",
   "metadata": {},
   "outputs": [],
   "source": [
    "# Data cleaning\n",
    "# Converting the 'created' column to a readable datetime format and storing it in a new column named 'date'. \n",
    "# Afterward, removing the original 'created' column\n",
    "\n",
    "df_comments['date'] = pd.to_datetime(df_comments['created'], unit='s').dt.date\n",
    "df_posts['date'] = pd.to_datetime(df_posts['created'], unit='s').dt.date\n",
    "\n",
    "df_comments = df_comments.drop('created', axis=1)\n",
    "df_posts = df_posts.drop('created', axis=1)"
   ]
  },
  {
   "cell_type": "code",
   "execution_count": 17,
   "id": "f3fd80aa-1e9c-4500-bc8d-d42da2ed169d",
   "metadata": {},
   "outputs": [
    {
     "name": "stdout",
     "output_type": "stream",
     "text": [
      "<class 'pandas.core.frame.DataFrame'>\n",
      "RangeIndex: 229 entries, 0 to 228\n",
      "Data columns (total 5 columns):\n",
      " #   Column        Non-Null Count  Dtype \n",
      "---  ------        --------------  ----- \n",
      " 0   title         229 non-null    object\n",
      " 1   selftext      151 non-null    object\n",
      " 2   score         229 non-null    int64 \n",
      " 3   num_comments  229 non-null    int64 \n",
      " 4   date          229 non-null    object\n",
      "dtypes: int64(2), object(3)\n",
      "memory usage: 9.1+ KB\n"
     ]
    }
   ],
   "source": [
    "# 230 posts related to the topic of The Ordinary brand were retrieved from the subreddit\n",
    "df_posts.info()"
   ]
  },
  {
   "cell_type": "code",
   "execution_count": null,
   "id": "250e20ab-f293-435c-b94a-f37d605fd2b4",
   "metadata": {},
   "outputs": [],
   "source": [
    "# Filtering the retriewed posts by a specific word in a title (ordinary)\n",
    "# Filling any NaN values in the selftext column with spaces\n",
    "ordinary_posts = df_posts[df_posts['title'].str.contains('ordinary', case=False)].copy()\n",
    "ordinary_posts['selftext'] = ordinary_posts['selftext'].fillna(' ')"
   ]
  },
  {
   "cell_type": "code",
   "execution_count": null,
   "id": "b4ce179f-e389-41f2-bb9d-cf8033bd70b7",
   "metadata": {},
   "outputs": [],
   "source": [
    "ordinary_posts"
   ]
  },
  {
   "cell_type": "code",
   "execution_count": null,
   "id": "9e920d01-644c-4d65-8965-683624691de0",
   "metadata": {},
   "outputs": [],
   "source": [
    "# Performing sentiment analysis using TextBlob on the posts, which includes both the title and the selftext (the author's text following the title)\n",
    "\n",
    "\n",
    "def analyze_sentiment(text):\n",
    "    blob = TextBlob(text)\n",
    "    return blob.sentiment.polarity, blob.sentiment.subjectivity"
   ]
  },
  {
   "cell_type": "code",
   "execution_count": null,
   "id": "6a4427b2-c110-4afd-a452-df2de0ca09de",
   "metadata": {},
   "outputs": [],
   "source": [
    "def add_sentiment_columns(df, column_to_analyse, polarity_column_name='polarity post', subjectivity_column_name='subjectivity post'):\n",
    "    df[[polarity_column_name, subjectivity_column_name]] = df[column_to_analyse].apply(lambda x: pd.Series(analyze_sentiment(x)))"
   ]
  },
  {
   "cell_type": "code",
   "execution_count": null,
   "id": "8096c3a0-fdfd-4a2f-9a38-6af07bf39c55",
   "metadata": {},
   "outputs": [],
   "source": [
    "add_sentiment_columns(ordinary_posts, 'title', 'polarity post', 'subjectivity post')\n",
    "add_sentiment_columns(ordinary_posts, 'selftext', 'polarity selftext', 'subjectivity selftext')"
   ]
  },
  {
   "cell_type": "code",
   "execution_count": null,
   "id": "746658f4-77ca-4ab3-a7d6-685f01ce5bcc",
   "metadata": {},
   "outputs": [],
   "source": [
    "ordinary_posts"
   ]
  },
  {
   "cell_type": "code",
   "execution_count": null,
   "id": "498dbe88-e9de-4e45-8b92-c5af2330c2d8",
   "metadata": {},
   "outputs": [],
   "source": [
    "# Defining a function to create visualizations of the sentiment polarity distribution\n",
    "\n",
    "def plot_polarity(polarity_column, viz_name):\n",
    "    plt.figure(figsize=(10, 6))\n",
    "    sns.histplot(polarity_column, bins=20, kde=True)\n",
    "    plt.title(viz_name)\n",
    "    plt.xlabel('Polarity')\n",
    "    plt.ylabel('Frequency')\n",
    "    plt.show()"
   ]
  },
  {
   "cell_type": "code",
   "execution_count": null,
   "id": "1d8b62a7-27f3-4b25-a203-838759372c77",
   "metadata": {},
   "outputs": [],
   "source": [
    "# Plotting the distribution of post title polarity, which ranges from -1 (very negative) to 1 (very positive), including intermediate values,\n",
    "# where 0 representing neutral sentiment.\n",
    "\n",
    "plot_polarity(ordinary_posts['polarity post'], 'Distribution of Post Title Polarity')"
   ]
  },
  {
   "cell_type": "code",
   "execution_count": null,
   "id": "27e91f89-0e9f-44fe-aa6b-a3cf394f3522",
   "metadata": {},
   "outputs": [],
   "source": [
    "# Plotting distribution of the Post text polarity\n",
    "\n",
    "plot_polarity(ordinary_posts['polarity selftext'], 'Distribution of Post Selftext Polarity')\n"
   ]
  },
  {
   "cell_type": "code",
   "execution_count": null,
   "id": "9fa8cad7-f7b2-40f4-adc0-33fb6e8b1c0d",
   "metadata": {},
   "outputs": [],
   "source": [
    "# The title polarity distribution indicates that the majority sentiment is slightly negative. \n",
    "# Let's explore the reasons for this using a Word Cloud technique."
   ]
  },
  {
   "cell_type": "code",
   "execution_count": null,
   "id": "035bef60-9d62-4840-a364-1caeba3a644f",
   "metadata": {},
   "outputs": [],
   "source": [
    "# Defining a function to apply Word Cloud analysis\n",
    "\n",
    "def cloud_analysis(column_to_analyse):\n",
    "    title_cloud = WordCloud(stopwords = stopwords).generate(column_to_analyse.to_string())\n",
    "    plt.imshow(title_cloud, interpolation = 'bilinear')\n",
    "    plt.axis('off')\n",
    "    plt.show()\n"
   ]
  },
  {
   "cell_type": "code",
   "execution_count": null,
   "id": "e149b9db-e8b0-4c0f-8bf7-fe800c79a122",
   "metadata": {},
   "outputs": [],
   "source": [
    "#Setting extra stop words\n",
    "\n",
    "extra_stop = {'n', 'nk', 's' , 'yes', 'welcome', 'm', 'deleted' , 'thank', 'skincareaddiction', 'skincare', 'hi', 'everyone', 'use', 'product', 'ordinary', 'products', 'skin', 've'}\n",
    "stopwords = STOPWORDS.union(extra_stop)"
   ]
  },
  {
   "cell_type": "code",
   "execution_count": null,
   "id": "db4b900d-976b-4a21-a78f-61f0da397bdf",
   "metadata": {},
   "outputs": [],
   "source": [
    "# Generating WordCloud and plotting the results\n",
    "\n",
    "cloud_analysis(ordinary_posts['title'])"
   ]
  },
  {
   "cell_type": "code",
   "execution_count": null,
   "id": "134c10aa-337f-44ef-8c02-2aac1e43fe31",
   "metadata": {},
   "outputs": [],
   "source": [
    "# Analysis of the titles of all posts about ordinary products reveals that people are most concerned with routine help\n",
    "# and have questions about the products"
   ]
  },
  {
   "cell_type": "code",
   "execution_count": null,
   "id": "9808f991-33ee-4d5f-9173-7fbe26e4cde2",
   "metadata": {},
   "outputs": [],
   "source": [
    "#Exploring in more detail using a Word Cloud analysis of the selftext from the posts\n",
    "\n",
    "cloud_analysis(ordinary_posts['selftext'])"
   ]
  },
  {
   "cell_type": "code",
   "execution_count": null,
   "id": "cb5700ab-cadb-49db-9030-88b41814f16a",
   "metadata": {},
   "outputs": [],
   "source": [
    "# Based on the Word Cloud generated from over 150 non-null selftexts about ordinary products, we can infer that people are asking about \n",
    "# recently purchased items and seeking information on their usage.\n",
    "# There is particular concern regarding acid products, such as glycolic acid. Let's filter the question posts to determine their specific content"
   ]
  },
  {
   "cell_type": "code",
   "execution_count": null,
   "id": "5700f140-3c87-435e-b4a2-f17a175c4190",
   "metadata": {},
   "outputs": [],
   "source": [
    "ordinary_posts_product_question = ordinary_posts[ordinary_posts['title'].str.contains('question', case=False)].copy()"
   ]
  },
  {
   "cell_type": "code",
   "execution_count": null,
   "id": "2d727ad4-7272-4939-b193-ec4a0f65a813",
   "metadata": {},
   "outputs": [],
   "source": [
    "ordinary_posts_product_question.info()\n",
    "\n",
    "# We filtered the post titles using 'question' words in the text, resulting in a total of 82 posts"
   ]
  },
  {
   "cell_type": "code",
   "execution_count": null,
   "id": "3ad38090-5982-4900-aad5-51f7f14d2981",
   "metadata": {},
   "outputs": [],
   "source": [
    "extra_stop2 = {'n', 'nk', 's' , 'yes', 'welcome', 'm', 'deleted' , 'thank', 'skincareaddiction', 'skincare', 'hi', 'everyone',  'anyone', 'use', 'product', 'ordinary', 'products', 'skin', 've', 'question'}\n",
    "stopwords = STOPWORDS.union(extra_stop2)\n",
    "\n",
    "cloud_analysis(ordinary_posts_product_question['title'])\n",
    "\n",
    "#Indeed, we can confirm that the most common question among customers who have recently purchased Ordinary products pertains to acids,\n",
    "# particularly glycolic acid. Let's explore the selftext to identify the specific questions being asked.\n",
    "\n",
    "\n"
   ]
  },
  {
   "cell_type": "code",
   "execution_count": null,
   "id": "cd6f8f71-52e3-49a1-b03c-4d1ad9766488",
   "metadata": {},
   "outputs": [],
   "source": [
    "# Generating and plotting WordCloud for selftext of the 'Question' posts\n",
    "\n",
    "cloud_analysis(ordinary_posts_product_question['selftext'])\n",
    "\n",
    "\n",
    "# From the Word Cloud below, we can see that people who purchased acid products are struggling to understand the correct routine for their use.\n",
    "# The customers have doubts about their proper application. In particular, how do these acids combined with other products like peptide and retinol\n",
    "# in the same routine."
   ]
  },
  {
   "cell_type": "code",
   "execution_count": null,
   "id": "1564a724-158b-4b44-b261-9df6100d9477",
   "metadata": {},
   "outputs": [],
   "source": [
    "# To confirm our hypothesis, we will filter the posts using the keyword 'Routine help' and analyze the titles and selftext of these posts"
   ]
  },
  {
   "cell_type": "code",
   "execution_count": null,
   "id": "17b25f33-c508-4344-b806-2ccd616d0ead",
   "metadata": {},
   "outputs": [],
   "source": [
    "ordinary_posts_routine = ordinary_posts[ordinary_posts['title'].str.contains('routine', case=False)].copy()"
   ]
  },
  {
   "cell_type": "code",
   "execution_count": null,
   "id": "5f8f03f2-46b3-415a-9654-24e4632beb28",
   "metadata": {},
   "outputs": [],
   "source": [
    "ordinary_posts_routine.info()"
   ]
  },
  {
   "cell_type": "code",
   "execution_count": null,
   "id": "14795c9c-4524-4c42-8cdf-cf5eab46a8d8",
   "metadata": {},
   "outputs": [],
   "source": [
    "extra_stop3 = {'n', 'nk', 's' , 'yes', 'welcome', 'm', 'deleted' , 'thank', 'skincareaddiction', 'skincare', 'hi', 'everyone',  'anyone', 'use', 'product', 'ordinary', 'products', 'skin', 've', 'question', 'routine', 'routine help'}\n",
    "stopwords = STOPWORDS.union(extra_stop3)\n",
    "\n",
    "cloud_analysis(ordinary_posts_routine['title'])\n"
   ]
  },
  {
   "cell_type": "code",
   "execution_count": null,
   "id": "5fc712c1-f1cd-4238-a91c-eabe3a078025",
   "metadata": {},
   "outputs": [],
   "source": [
    "cloud_analysis(ordinary_posts_routine['selftext'])"
   ]
  },
  {
   "cell_type": "code",
   "execution_count": null,
   "id": "d6435f33-0476-4f8d-9c5f-8c22beff1752",
   "metadata": {},
   "outputs": [],
   "source": [
    "# Based on the two WordCloud analyses above, we can confirm our assumption: clients who recently purchased The Ordinary products primarily \n",
    "# have doubts about incorporating them into their daily skincare routine. Their concerns particularly revolve around acids (especially glycolic acid)\n",
    "# and whether these can be used alongside Niacinamide, Peptides, and Retinol in the same regimen.\n",
    "# It’s recommended to review the guidance on the official website and the packaging for usage instructions on acids in skincare routines"
   ]
  },
  {
   "cell_type": "code",
   "execution_count": null,
   "id": "ccaa33b4-68cf-44e0-9169-7b2ad594e279",
   "metadata": {},
   "outputs": [],
   "source": [
    "#Sentiment analysis on the comments of the posts which have in the title 'The ordinary' brand\n",
    "#We will filter the comments DataFrame to only include posts where the word 'ordinary' appears in the title.\n",
    "ordinary_comments = df_comments[df_comments['title'].str.contains('ordinary', case=False)].copy()\n"
   ]
  },
  {
   "cell_type": "code",
   "execution_count": null,
   "id": "6928f0c2-7527-4047-8270-22c4a84a0bf2",
   "metadata": {},
   "outputs": [],
   "source": [
    "add_sentiment_columns(ordinary_comments, 'comment', 'polarity comment', 'subjectivity comment')"
   ]
  },
  {
   "cell_type": "code",
   "execution_count": null,
   "id": "d7123249-f2be-4218-8314-6276e4a3af31",
   "metadata": {},
   "outputs": [],
   "source": [
    "ordinary_comments\n"
   ]
  },
  {
   "cell_type": "code",
   "execution_count": null,
   "id": "a56ddda6-0434-4297-81c0-a0ae30a47086",
   "metadata": {},
   "outputs": [],
   "source": [
    "ordinary_comments.info()"
   ]
  },
  {
   "cell_type": "code",
   "execution_count": null,
   "id": "98e2cc25-ed42-4091-ae63-dd561c0378fb",
   "metadata": {},
   "outputs": [],
   "source": [
    "plot_polarity(ordinary_comments['polarity comment'], 'Distribution of Comments Polarity')\n"
   ]
  },
  {
   "cell_type": "code",
   "execution_count": null,
   "id": "dd578c69-9ef7-4a94-8699-1952d674b47c",
   "metadata": {},
   "outputs": [],
   "source": [
    "# The overall polarity distribution of the comment section, which contains over 4,000 comments, is positive"
   ]
  },
  {
   "cell_type": "code",
   "execution_count": null,
   "id": "754e6a31-73de-443d-af20-ca5592be1804",
   "metadata": {},
   "outputs": [],
   "source": [
    "#What people say in the comments about The Ordinary brand\n",
    "\n",
    "cloud_analysis(ordinary_comments['comment'])\n",
    "\n",
    "# Overall, the sentiment is positive, within over 4000 comments showing that the word 'love' is the most frequently used.\n",
    "# The Word Cloud below reinforces this, indicating that people are generally happy with The Ordinary products."
   ]
  },
  {
   "cell_type": "code",
   "execution_count": null,
   "id": "a018dbbb-c5e2-4e37-9013-ddbd618aad24",
   "metadata": {},
   "outputs": [],
   "source": [
    "posts_distribution = ordinary_posts.groupby('date').size().reset_index(name='post_count')"
   ]
  },
  {
   "cell_type": "code",
   "execution_count": null,
   "id": "98e18490-114a-4b2e-ad2d-56dd2dd32400",
   "metadata": {},
   "outputs": [],
   "source": [
    "plt.figure(figsize=(10, 6))\n",
    "plt.plot(posts_distribution['date'], posts_distribution['post_count'], marker='o', linestyle='-', color='b')\n",
    "plt.title('Distribution of Posts by Date')\n",
    "plt.xlabel('Date')\n",
    "plt.ylabel('Number of Posts')\n",
    "plt.xticks(rotation=45)\n",
    "plt.grid()\n",
    "plt.tight_layout()  \n",
    "plt.show()"
   ]
  },
  {
   "cell_type": "code",
   "execution_count": null,
   "id": "067629a2-08b3-4b70-ab12-055387b6f0dd",
   "metadata": {},
   "outputs": [],
   "source": [
    "# During this year we can see the most interest in The Ordinary brand"
   ]
  }
 ],
 "metadata": {
  "kernelspec": {
   "display_name": "Python 3 (ipykernel)",
   "language": "python",
   "name": "python3"
  },
  "language_info": {
   "codemirror_mode": {
    "name": "ipython",
    "version": 3
   },
   "file_extension": ".py",
   "mimetype": "text/x-python",
   "name": "python",
   "nbconvert_exporter": "python",
   "pygments_lexer": "ipython3",
   "version": "3.11.7"
  }
 },
 "nbformat": 4,
 "nbformat_minor": 5
}
